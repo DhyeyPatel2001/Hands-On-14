{
 "cells": [
  {
   "cell_type": "markdown",
   "metadata": {},
   "source": [
    "## 1. Dijkstra's algorithm"
   ]
  },
  {
   "cell_type": "code",
   "execution_count": null,
   "metadata": {},
   "outputs": [
    {
     "name": "stdout",
     "output_type": "stream",
     "text": [
      "Dijkstra Test 1: {'A': 0, 'B': 2, 'C': 3, 'D': 5}\n",
      "Dijkstra Test 2: {'A': 0, 'B': 1, 'C': inf, 'D': inf}\n"
     ]
    }
   ],
   "source": [
    "import heapq\n",
    "\n",
    "def dijkstra(graph, source):\n",
    "    distances = {node: float('inf') for node in graph}\n",
    "    distances[source] = 0\n",
    "    priority_queue = [(0, source)]\n",
    "\n",
    "    while priority_queue:\n",
    "        current_distance, current_node = heapq.heappop(priority_queue)\n",
    "\n",
    "        if current_distance > distances[current_node]:\n",
    "            continue\n",
    "\n",
    "        for neighbor, weight in graph[current_node].items():\n",
    "            distance = current_distance + weight\n",
    "            if distance < distances[neighbor]:\n",
    "                distances[neighbor] = distance\n",
    "                heapq.heappush(priority_queue, (distance, neighbor))\n",
    "\n",
    "    return distances\n",
    "\n",
    "# Test Example\n",
    "# Test Case 1: Graph with multiple shortest paths\n",
    "graph1 = {\n",
    "    'A': {'B': 2, 'C': 5},\n",
    "    'B': {'C': 1, 'D': 3},\n",
    "    'C': {'D': 2},\n",
    "    'D': {}\n",
    "}\n",
    "print(\"Dijkstra Test 1:\", dijkstra(graph1, 'A'))  \n",
    "\n",
    "# Test Case 2: Disconnected graph\n",
    "graph2 = {\n",
    "    'A': {'B': 1},\n",
    "    'B': {},\n",
    "    'C': {'D': 2},\n",
    "    'D': {}\n",
    "}\n",
    "print(\"Dijkstra Test 2:\", dijkstra(graph2, 'A'))  "
   ]
  },
  {
   "cell_type": "markdown",
   "metadata": {},
   "source": [
    "## 2. Bellman-Ford algorithm"
   ]
  },
  {
   "cell_type": "code",
   "execution_count": null,
   "metadata": {},
   "outputs": [
    {
     "name": "stdout",
     "output_type": "stream",
     "text": [
      "Bellman-Ford Test 1: {'A': 0, 'B': 4, 'C': 2, 'D': 4}\n",
      "Bellman-Ford Test 2: Graph contains a negative-weight cycle\n"
     ]
    }
   ],
   "source": [
    "def bellman_ford(graph, source):\n",
    "    distances = {node: float('inf') for node in graph}\n",
    "    distances[source] = 0\n",
    "\n",
    "    for _ in range(len(graph) - 1):\n",
    "        for node in graph:\n",
    "            for neighbor, weight in graph[node].items():\n",
    "                if distances[node] + weight < distances[neighbor]:\n",
    "                    distances[neighbor] = distances[node] + weight\n",
    "\n",
    "    # Check for negative-weight cycles\n",
    "    for node in graph:\n",
    "        for neighbor, weight in graph[node].items():\n",
    "            if distances[node] + weight < distances[neighbor]:\n",
    "                raise ValueError(\"Graph contains a negative-weight cycle\")\n",
    "\n",
    "    return distances\n",
    "\n",
    "# Test Example\n",
    "# Test Case 1: Graph with negative edge weights (but no negative cycles)\n",
    "graph3 = {\n",
    "    'A': {'B': 4, 'C': 2},\n",
    "    'B': {'C': -2, 'D': 3},\n",
    "    'C': {'D': 2},\n",
    "    'D': {}\n",
    "}\n",
    "print(\"Bellman-Ford Test 1:\", bellman_ford(graph3, 'A'))  \n",
    "\n",
    "# Test Case 2: Graph with a negative-weight cycle\n",
    "graph4 = {\n",
    "    'A': {'B': 1},\n",
    "    'B': {'C': -1},\n",
    "    'C': {'A': -1}\n",
    "}\n",
    "try:\n",
    "    print(\"Bellman-Ford Test 2:\", bellman_ford(graph4, 'A'))  \n",
    "except ValueError as e:\n",
    "    print(\"Bellman-Ford Test 2:\", e)  "
   ]
  },
  {
   "cell_type": "markdown",
   "metadata": {},
   "source": [
    "## 3. Floyd-Warshall algorithm"
   ]
  },
  {
   "cell_type": "code",
   "execution_count": null,
   "metadata": {},
   "outputs": [
    {
     "name": "stdout",
     "output_type": "stream",
     "text": [
      "Floyd-Warshall Test 1:\n",
      "From A: {'A': 0, 'B': 3, 'C': 8, 'D': 4}\n",
      "From B: {'A': inf, 'B': 0, 'C': inf, 'D': 1}\n",
      "From C: {'A': inf, 'B': inf, 'C': 0, 'D': 2}\n",
      "From D: {'A': inf, 'B': inf, 'C': inf, 'D': 0}\n",
      "Floyd-Warshall Test 2:\n",
      "From A: {'A': 0, 'B': 7, 'C': 9, 'D': inf}\n",
      "From B: {'A': inf, 'B': 0, 'C': 2, 'D': inf}\n",
      "From C: {'A': inf, 'B': inf, 'C': 0, 'D': inf}\n",
      "From D: {'A': 1, 'B': 8, 'C': 10, 'D': 0}\n"
     ]
    }
   ],
   "source": [
    "def floyd_warshall(graph):\n",
    "    nodes = list(graph.keys())\n",
    "    dist = {node: {other: float('inf') for other in nodes} for node in nodes}\n",
    "\n",
    "    for node in nodes:\n",
    "        dist[node][node] = 0\n",
    "        for neighbor, weight in graph[node].items():\n",
    "            dist[node][neighbor] = weight\n",
    "\n",
    "    for k in nodes:\n",
    "        for i in nodes:\n",
    "            for j in nodes:\n",
    "                dist[i][j] = min(dist[i][j], dist[i][k] + dist[k][j])\n",
    "\n",
    "    return dist\n",
    "\n",
    "# Test Example\n",
    "# Test Case 1: Small graph with direct connections\n",
    "graph5 = {\n",
    "    'A': {'B': 3, 'C': 8},\n",
    "    'B': {'D': 1},\n",
    "    'C': {'D': 2},\n",
    "    'D': {}\n",
    "}\n",
    "distances = floyd_warshall(graph5)\n",
    "print(\"Floyd-Warshall Test 1:\")\n",
    "for source, targets in distances.items():\n",
    "    print(f\"From {source}: {targets}\")\n",
    "\n",
    "# Test Case 2: Graph with disconnected components\n",
    "graph6 = {\n",
    "    'A': {'B': 7},\n",
    "    'B': {'C': 2},\n",
    "    'C': {},\n",
    "    'D': {'A': 1}\n",
    "}\n",
    "distances = floyd_warshall(graph6)\n",
    "print(\"Floyd-Warshall Test 2:\")\n",
    "for source, targets in distances.items():\n",
    "    print(f\"From {source}: {targets}\")"
   ]
  },
  {
   "cell_type": "code",
   "execution_count": null,
   "metadata": {},
   "outputs": [],
   "source": []
  }
 ],
 "metadata": {
  "kernelspec": {
   "display_name": "base",
   "language": "python",
   "name": "python3"
  },
  "language_info": {
   "codemirror_mode": {
    "name": "ipython",
    "version": 3
   },
   "file_extension": ".py",
   "mimetype": "text/x-python",
   "name": "python",
   "nbconvert_exporter": "python",
   "pygments_lexer": "ipython3",
   "version": "3.11.5"
  }
 },
 "nbformat": 4,
 "nbformat_minor": 2
}
